{
 "cells": [
  {
   "cell_type": "markdown",
   "metadata": {},
   "source": [
    "<h1><center> F for Flash? A Dive into League's oldest Question.</center></h1>\n",
    "\n",
    "<img src=\"data:image/jpeg;base64,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\" align = 'center'>\n"
   ]
  },
  {
   "cell_type": "markdown",
   "metadata": {},
   "source": [
    "## Introduction."
   ]
  },
  {
   "cell_type": "markdown",
   "metadata": {},
   "source": [
    "**Question at hand**  ➔ Does having flash on F, instead of D, affect the upper tiers of competitive league of legends?"
   ]
  },
  {
   "cell_type": "markdown",
   "metadata": {},
   "source": [
    "League of Legends is a competitive, often infuriating, a multiplayer game available to many different regions around the world. There are two teams of five people in five roles. Players can choose a wide variety of characters to play all of which have their respective unique abilities. However, there are ten universal abilities, called Summoner Spells, that all characters have access to on top of what they already offer."
   ]
  },
  {
   "cell_type": "markdown",
   "metadata": {},
   "source": [
    "Flash is the most common Summoner Spell due to its utility in the game and is often placed on D or F on the keyboard. In this analysis, we will try to find the effect of this important ability's keybinding on success in the upper tiers of Soloq. "
   ]
  },
  {
   "cell_type": "markdown",
   "metadata": {},
   "source": [
    "Soloq or Solo Queue is the competitive ladder system built into League of Legends. It is how players are scouted by professional teams for their talent and how friends are clowned for their lack thereof. The ladder is made up of divisions where players climb up with consistent wins. At the top of it, all is the Challenger Division where professional players and upcoming talent often reside. To note, players can only play with one pre-made partner in these ranked (games that affect division) games so the ladder system aims to evaluate individual prowess at the game."
   ]
  },
  {
   "cell_type": "markdown",
   "metadata": {
    "slideshow": {
     "slide_type": "fragment"
    }
   },
   "source": [
    "The statistic we will be analyzing in this study is the difference in the proportion of players in the Challenger Division that use flash on F from the proportion of players in Master Division that use flash on F. Allowing us to compare the differences between these values. "
   ]
  },
  {
   "cell_type": "markdown",
   "metadata": {},
   "source": [
    "### Dataset."
   ]
  },
  {
   "cell_type": "code",
   "execution_count": 145,
   "metadata": {
    "scrolled": true
   },
   "outputs": [
    {
     "data": {
      "text/html": [
       "<table>\n",
       "<caption>A data.frame: 6 × 3</caption>\n",
       "<thead>\n",
       "\t<tr><th></th><th scope=col>d_spell</th><th scope=col>f_spell</th><th scope=col>result</th></tr>\n",
       "\t<tr><th></th><th scope=col>&lt;chr&gt;</th><th scope=col>&lt;chr&gt;</th><th scope=col>&lt;chr&gt;</th></tr>\n",
       "</thead>\n",
       "<tbody>\n",
       "\t<tr><th scope=row>1</th><td>Ignite</td><td>Flash   </td><td>True </td></tr>\n",
       "\t<tr><th scope=row>2</th><td>Flash </td><td>Smite   </td><td>True </td></tr>\n",
       "\t<tr><th scope=row>3</th><td>Flash </td><td>Teleport</td><td>False</td></tr>\n",
       "\t<tr><th scope=row>4</th><td>Flash </td><td>Smite   </td><td>False</td></tr>\n",
       "\t<tr><th scope=row>5</th><td>Flash </td><td>Heal    </td><td>True </td></tr>\n",
       "\t<tr><th scope=row>6</th><td>Flash </td><td>Ignite  </td><td>False</td></tr>\n",
       "</tbody>\n",
       "</table>\n"
      ],
      "text/latex": [
       "A data.frame: 6 × 3\n",
       "\\begin{tabular}{r|lll}\n",
       "  & d\\_spell & f\\_spell & result\\\\\n",
       "  & <chr> & <chr> & <chr>\\\\\n",
       "\\hline\n",
       "\t1 & Ignite & Flash    & True \\\\\n",
       "\t2 & Flash  & Smite    & True \\\\\n",
       "\t3 & Flash  & Teleport & False\\\\\n",
       "\t4 & Flash  & Smite    & False\\\\\n",
       "\t5 & Flash  & Heal     & True \\\\\n",
       "\t6 & Flash  & Ignite   & False\\\\\n",
       "\\end{tabular}\n"
      ],
      "text/markdown": [
       "\n",
       "A data.frame: 6 × 3\n",
       "\n",
       "| <!--/--> | d_spell &lt;chr&gt; | f_spell &lt;chr&gt; | result &lt;chr&gt; |\n",
       "|---|---|---|---|\n",
       "| 1 | Ignite | Flash    | True  |\n",
       "| 2 | Flash  | Smite    | True  |\n",
       "| 3 | Flash  | Teleport | False |\n",
       "| 4 | Flash  | Smite    | False |\n",
       "| 5 | Flash  | Heal     | True  |\n",
       "| 6 | Flash  | Ignite   | False |\n",
       "\n"
      ],
      "text/plain": [
       "  d_spell f_spell  result\n",
       "1 Ignite  Flash    True  \n",
       "2 Flash   Smite    True  \n",
       "3 Flash   Teleport False \n",
       "4 Flash   Smite    False \n",
       "5 Flash   Heal     True  \n",
       "6 Flash   Ignite   False "
      ]
     },
     "metadata": {},
     "output_type": "display_data"
    },
    {
     "data": {
      "text/html": [
       "<table>\n",
       "<caption>A data.frame: 6 × 3</caption>\n",
       "<thead>\n",
       "\t<tr><th></th><th scope=col>d_spell</th><th scope=col>f_spell</th><th scope=col>result</th></tr>\n",
       "\t<tr><th></th><th scope=col>&lt;chr&gt;</th><th scope=col>&lt;chr&gt;</th><th scope=col>&lt;chr&gt;</th></tr>\n",
       "</thead>\n",
       "<tbody>\n",
       "\t<tr><th scope=row>1</th><td>Flash</td><td>Ignite</td><td>False</td></tr>\n",
       "\t<tr><th scope=row>2</th><td>Flash</td><td>Heal  </td><td>True </td></tr>\n",
       "\t<tr><th scope=row>3</th><td>Smite</td><td>Flash </td><td>True </td></tr>\n",
       "\t<tr><th scope=row>4</th><td>Smite</td><td>Flash </td><td>True </td></tr>\n",
       "\t<tr><th scope=row>5</th><td>Flash</td><td>Ignite</td><td>False</td></tr>\n",
       "\t<tr><th scope=row>6</th><td>Heal </td><td>Flash </td><td>True </td></tr>\n",
       "</tbody>\n",
       "</table>\n"
      ],
      "text/latex": [
       "A data.frame: 6 × 3\n",
       "\\begin{tabular}{r|lll}\n",
       "  & d\\_spell & f\\_spell & result\\\\\n",
       "  & <chr> & <chr> & <chr>\\\\\n",
       "\\hline\n",
       "\t1 & Flash & Ignite & False\\\\\n",
       "\t2 & Flash & Heal   & True \\\\\n",
       "\t3 & Smite & Flash  & True \\\\\n",
       "\t4 & Smite & Flash  & True \\\\\n",
       "\t5 & Flash & Ignite & False\\\\\n",
       "\t6 & Heal  & Flash  & True \\\\\n",
       "\\end{tabular}\n"
      ],
      "text/markdown": [
       "\n",
       "A data.frame: 6 × 3\n",
       "\n",
       "| <!--/--> | d_spell &lt;chr&gt; | f_spell &lt;chr&gt; | result &lt;chr&gt; |\n",
       "|---|---|---|---|\n",
       "| 1 | Flash | Ignite | False |\n",
       "| 2 | Flash | Heal   | True  |\n",
       "| 3 | Smite | Flash  | True  |\n",
       "| 4 | Smite | Flash  | True  |\n",
       "| 5 | Flash | Ignite | False |\n",
       "| 6 | Heal  | Flash  | True  |\n",
       "\n"
      ],
      "text/plain": [
       "  d_spell f_spell result\n",
       "1 Flash   Ignite  False \n",
       "2 Flash   Heal    True  \n",
       "3 Smite   Flash   True  \n",
       "4 Smite   Flash   True  \n",
       "5 Flash   Ignite  False \n",
       "6 Heal    Flash   True  "
      ]
     },
     "metadata": {},
     "output_type": "display_data"
    }
   ],
   "source": [
    "library(tidyverse)\n",
    "library(repr)\n",
    "library(dplyr)\n",
    "library(infer)\n",
    "\n",
    "library(tidyr)\n",
    "library(knitr)\n",
    "\n",
    "library(gridExtra)\n",
    "library(grid)\n",
    "\n",
    "\n",
    "library(broom)\n",
    "library(digest)\n",
    "\n",
    "\n",
    "\n",
    "cDataBR <- read.csv('data/spell_infoBR.csv')\n",
    "cDataEUW <- read.csv('data/spell_infoEUW.csv') \n",
    "cDataKR <- read.csv('data/spell_infoKR.csv') \n",
    "cDataNA <- read.csv('data/spell_infoNA.csv') \n",
    "cDataEUNE <- read.csv('data/spell_infoEUNE.csv')\n",
    "\n",
    "mDataBR <- read.csv('data/master_spell_infoBR.csv')\n",
    "mDataEUW <- read.csv('data/master_spell_infoEUW.csv')\n",
    "mDataKR <- read.csv('data/master_spell_infoKR.csv')\n",
    "mDataNA <- read.csv('data/master_spell_infoNA.csv')\n",
    "mDataEUNE <- read.csv('data/master_spell_infoEUNE.csv')\n",
    "\n",
    "\n",
    "head(cDataBR)\n",
    "head(mDataBR)"
   ]
  },
  {
   "cell_type": "markdown",
   "metadata": {},
   "source": [
    "###### Wrangling.\n",
    "I obtained my data with a python program that accesses the Riot Games API. Here is the github link to my project for those interested: I obtained my data with a python program that accesses the Riot Games API. Here is the github link to my project https://github.com/aasuter/FforFlash"
   ]
  },
  {
   "cell_type": "markdown",
   "metadata": {},
   "source": [
    "##### Description.\n",
    "\n",
    "The data sets include Challenger and Master Division players in the regions: North America, Europe West, Korea, Brazil, and Europe North East. Because of this, we have 10 different data sets with two data sets corresponding to each region. \n",
    "\n",
    "I included what Summoner Spells are assigned to the D and F keys and if they won the game they were playing in. This corresponds to the columns d_spell, f_spell, and result.\n",
    "\n",
    "To create these data sets I only drew in one game from each of these players' match history to find their relevant key bindings. I did this because it is not necessary to draw anymore as players do not change their settings very often, especially keybindings.\n",
    "\n",
    "##### Cleaning.\n",
    "\n",
    "To clean our data, we must look back at the question at hand, that is: how does having flash on F influence the upper tiers of competitive league of legends? To analyze this question we will be conduction analysis of the proportion of players with flash on F in both the Challenger and Master divisions. \n",
    "\n",
    "(1) Beginning our cleaning we will first remove the results column for now, as well as the d_spell. We are removing the d_spell column as you can not have two instances of flash, that is you can not have flash on F and D. Therefore, having flash under the f_spell column, or not having flash, will still give us the relevant data. \n",
    "\n",
    "(2) We also clean the data by removing data points where the individual did not take flash that game, as this is not relevant to our question.\n",
    "\n",
    "(3) Now, we will be mutating our data to add a column assigning the division of each data point so we can conduct our analysis later in the article, and we will be assigning false to values that are not flash, and true for values that are flash in the f_spell column.\n",
    "\n",
    "(4) Lastly, we will combine the two data frames for each region. And we will create one large data frame containing all regions.\n"
   ]
  },
  {
   "cell_type": "code",
   "execution_count": 134,
   "metadata": {},
   "outputs": [
    {
     "data": {
      "text/html": [
       "<table>\n",
       "<caption>A data.frame: 6 × 2</caption>\n",
       "<thead>\n",
       "\t<tr><th></th><th scope=col>f_spell</th><th scope=col>division</th></tr>\n",
       "\t<tr><th></th><th scope=col>&lt;lgl&gt;</th><th scope=col>&lt;chr&gt;</th></tr>\n",
       "</thead>\n",
       "<tbody>\n",
       "\t<tr><th scope=row>1</th><td> TRUE</td><td>Challenger</td></tr>\n",
       "\t<tr><th scope=row>2</th><td>FALSE</td><td>Challenger</td></tr>\n",
       "\t<tr><th scope=row>3</th><td>FALSE</td><td>Challenger</td></tr>\n",
       "\t<tr><th scope=row>4</th><td>FALSE</td><td>Challenger</td></tr>\n",
       "\t<tr><th scope=row>5</th><td>FALSE</td><td>Challenger</td></tr>\n",
       "\t<tr><th scope=row>6</th><td>FALSE</td><td>Challenger</td></tr>\n",
       "</tbody>\n",
       "</table>\n"
      ],
      "text/latex": [
       "A data.frame: 6 × 2\n",
       "\\begin{tabular}{r|ll}\n",
       "  & f\\_spell & division\\\\\n",
       "  & <lgl> & <chr>\\\\\n",
       "\\hline\n",
       "\t1 &  TRUE & Challenger\\\\\n",
       "\t2 & FALSE & Challenger\\\\\n",
       "\t3 & FALSE & Challenger\\\\\n",
       "\t4 & FALSE & Challenger\\\\\n",
       "\t5 & FALSE & Challenger\\\\\n",
       "\t6 & FALSE & Challenger\\\\\n",
       "\\end{tabular}\n"
      ],
      "text/markdown": [
       "\n",
       "A data.frame: 6 × 2\n",
       "\n",
       "| <!--/--> | f_spell &lt;lgl&gt; | division &lt;chr&gt; |\n",
       "|---|---|---|\n",
       "| 1 |  TRUE | Challenger |\n",
       "| 2 | FALSE | Challenger |\n",
       "| 3 | FALSE | Challenger |\n",
       "| 4 | FALSE | Challenger |\n",
       "| 5 | FALSE | Challenger |\n",
       "| 6 | FALSE | Challenger |\n",
       "\n"
      ],
      "text/plain": [
       "  f_spell division  \n",
       "1  TRUE   Challenger\n",
       "2 FALSE   Challenger\n",
       "3 FALSE   Challenger\n",
       "4 FALSE   Challenger\n",
       "5 FALSE   Challenger\n",
       "6 FALSE   Challenger"
      ]
     },
     "metadata": {},
     "output_type": "display_data"
    }
   ],
   "source": [
    "### Cleaning Begins\n",
    "\n",
    "# Challenger Data Sets\n",
    "chalDataBR <- cDataBR %>%\n",
    "    select(-result) %>% # (1)\n",
    "    filter(d_spell == 'Flash' | f_spell == 'Flash') %>% # (2) we filter before removing d_spell so we remove all instances of no flash\n",
    "    select(-d_spell) %>% # (1)\n",
    "    mutate(division = 'Challenger', f_spell = (f_spell == 'Flash')) # (3)\n",
    "\n",
    "chalDataEUW <- cDataEUW %>%\n",
    "    select(-result) %>%\n",
    "    filter(d_spell == 'Flash' | f_spell == 'Flash') %>% \n",
    "    select(-d_spell) %>%\n",
    "    mutate(division = 'Challenger', f_spell = (f_spell == 'Flash'))\n",
    "\n",
    "chalDataKR <- cDataKR %>%\n",
    "    select(-result) %>%\n",
    "    filter(d_spell == 'Flash' | f_spell == 'Flash') %>% \n",
    "    select(-d_spell) %>%\n",
    "    mutate(division = 'Challenger', f_spell = (f_spell == 'Flash'))\n",
    "\n",
    "chalDataNA <- cDataNA %>%\n",
    "    select(-result) %>%\n",
    "    filter(d_spell == 'Flash' | f_spell == 'Flash') %>% \n",
    "    select(-d_spell) %>%\n",
    "    mutate(division = 'Challenger', f_spell = (f_spell == 'Flash'))\n",
    "\n",
    "chalDataEUNE <- cDataEUNE %>%\n",
    "    select(-result) %>%\n",
    "    filter(d_spell == 'Flash' | f_spell == 'Flash') %>% \n",
    "    select(-d_spell) %>%\n",
    "    mutate(division = 'Challenger', f_spell = (f_spell == 'Flash'))\n",
    "\n",
    "# Master Data Sets\n",
    "mastDataBR <- mDataBR %>%\n",
    "    select(-result) %>%\n",
    "    filter(d_spell == 'Flash' | f_spell == 'Flash') %>% \n",
    "    select(-d_spell) %>%\n",
    "    mutate(division = 'Master', f_spell = (f_spell == 'Flash'))\n",
    "\n",
    "mastDataEUW <- mDataEUW %>%\n",
    "    select(-result) %>%\n",
    "    filter(d_spell == 'Flash' | f_spell == 'Flash') %>% \n",
    "    select(-d_spell) %>%\n",
    "    mutate(division = 'Master', f_spell = (f_spell == 'Flash'))\n",
    "\n",
    "mastDataKR <- mDataKR %>%\n",
    "    select(-result) %>%\n",
    "    filter(d_spell == 'Flash' | f_spell == 'Flash') %>% \n",
    "    select(-d_spell) %>%\n",
    "    mutate(division = 'Master', f_spell = (f_spell == 'Flash'))\n",
    "\n",
    "mastDataNA <- mDataNA %>%\n",
    "    select(-result) %>%\n",
    "    filter(d_spell == 'Flash' | f_spell == 'Flash') %>% \n",
    "    select(-d_spell) %>%\n",
    "    mutate(division = 'Master', f_spell = (f_spell == 'Flash'))\n",
    "\n",
    "mastDataEUNE <- mDataEUNE %>%\n",
    "    select(-result) %>%\n",
    "    filter(d_spell == 'Flash' | f_spell == 'Flash') %>% \n",
    "    select(-d_spell) %>%\n",
    "    mutate(division = 'Master', f_spell = (f_spell == 'Flash'))\n",
    "\n",
    "# (4) Combining our Data frames\n",
    "brData <- rbind(chalDataBR, mastDataBR)\n",
    "euwData <- rbind(chalDataEUW, mastDataEUW)\n",
    "krData <- rbind(chalDataKR, mastDataKR)\n",
    "naData <- rbind(chalDataNA, mastDataNA)\n",
    "euneData <- rbind(chalDataEUNE, mastDataEUNE)\n",
    "\n",
    "globalData <- rbind(chalDataBR, mastDataBR, chalDataEUW, mastDataEUW, chalDataKR, mastDataKR, chalDataNA, mastDataNA,\n",
    "                   chalDataEUNE, mastDataEUNE, mastDataKR)\n",
    "\n",
    "# Adding global master and challenger data frame used later in hypothesis tests\n",
    "mastDataGloabl<- rbind(mastDataBR, mastDataEUW, mastDataKR, mastDataNA, mastDataEUNE)\n",
    "chalDataGloabl<- rbind(chalDataBR, chalDataEUW, chalDataKR, chalDataNA, chalDataEUNE)\n",
    "\n",
    "# visualize these new data frames\n",
    "head(chalDataBR)"
   ]
  },
  {
   "cell_type": "markdown",
   "metadata": {},
   "source": [
    "##### Cleaning Conclusion.\n",
    "Now, are data sets have two columns. \n",
    "* (1) Our explanatory variable being **division** which is a string value assigning the division of the data entry. \n",
    "\n",
    "* (2) Our response variable **f_spell** has transformed into a boolean value indicating if the summoner used flash on F."
   ]
  },
  {
   "cell_type": "markdown",
   "metadata": {},
   "source": [
    "## Preliminary Results."
   ]
  },
  {
   "cell_type": "code",
   "execution_count": 135,
   "metadata": {},
   "outputs": [],
   "source": [
    "# Calculating our Observed Difference in Proportion, also adding region column o help us visualize our results\n",
    "br_obs_diff_prop <- brData %>%\n",
    "                    specify(formula= f_spell ~ division, success=\"TRUE\") %>%\n",
    "                    calculate(stat = \"diff in props\", order = c(\"Challenger\", \"Master\")) %>%\n",
    "                    mutate(region = \"Brazil\")\n",
    "    \n",
    "euw_obs_diff_prop <- euwData %>%\n",
    "                    specify(formula= f_spell ~ division, success=\"TRUE\") %>%\n",
    "                    calculate(stat = \"diff in props\", order = c(\"Challenger\", \"Master\")) %>%\n",
    "                    mutate(region = \"Europe West\")\n",
    "\n",
    "kr_obs_diff_prop <- krData %>%\n",
    "                    specify(formula= f_spell ~ division, success=\"TRUE\") %>%\n",
    "                    calculate(stat = \"diff in props\", order = c(\"Challenger\", \"Master\")) %>%\n",
    "                    mutate(region = \"Korea\")\n",
    "\n",
    "na_obs_diff_prop <- naData %>%\n",
    "                    specify(formula= f_spell ~ division, success=\"TRUE\") %>%\n",
    "                    calculate(stat = \"diff in props\", order = c(\"Challenger\", \"Master\")) %>%\n",
    "                    mutate(region = \"North America\")\n",
    "\n",
    "eune_obs_diff_prop <- euneData %>%\n",
    "                    specify(formula= f_spell ~ division, success=\"TRUE\") %>%\n",
    "                    calculate(stat = \"diff in props\", order = c(\"Challenger\", \"Master\")) %>%\n",
    "                    mutate(region = \"Europe North East\")\n",
    "\n",
    "global_obs_diff_prop <- globalData %>%\n",
    "                    specify(formula= f_spell ~ division, success=\"TRUE\") %>%\n",
    "                    calculate(stat = \"diff in props\", order = c(\"Challenger\", \"Master\")) %>%\n",
    "                    mutate(region = \"Global\")\n",
    "\n",
    "regions_obs_diff_prop <- rbind(br_obs_diff_prop, euw_obs_diff_prop, kr_obs_diff_prop, na_obs_diff_prop, eune_obs_diff_prop, \n",
    "                              global_obs_diff_prop)"
   ]
  },
  {
   "cell_type": "code",
   "execution_count": 136,
   "metadata": {},
   "outputs": [
    {
     "data": {
      "image/png": "[encoded data removed]",
      "text/plain": [
       "plot without title"
      ]
     },
     "metadata": {
      "image/png": {
       "height": 420,
       "width": 420
      }
     },
     "output_type": "display_data"
    }
   ],
   "source": [
    "# Visualizing the Difference in proportion\n",
    "regionsVisual <- regions_obs_diff_prop %>%\n",
    "    ggplot(aes(x=region, y=stat, color = region)) +\n",
    "    geom_bar(stat=\"identity\", fill=\"#f7f6f2\") +\n",
    "    labs(title= 'Proportion of Challenger Players with Flash on F vs Master') +\n",
    "    theme(legend.position=\"none\") + \n",
    "    coord_flip()\n",
    "\n",
    "regionsVisual"
   ]
  },
  {
   "cell_type": "markdown",
   "metadata": {},
   "source": [
    "## Methods."
   ]
  },
  {
   "cell_type": "markdown",
   "metadata": {},
   "source": [
    "Good things about this report\n",
    "* The data coming from the Riot Games API is up to date and very relevant\n",
    "* We can gain access to the population parameter by calculating the difference in proportion from available information online right away.\n",
    "* Lastly, the sample of Challenger players in each division is a comprehensive list of data. Therefore, this will improve our estimate as we will only be taking subsets of our general population."
   ]
  },
  {
   "cell_type": "markdown",
   "metadata": {},
   "source": [
    "Since we will be taking a subset of our Master Division population we will need to provide accurate confidence intervals for our difference in proportion and test our hypothesis. That is, the value is greater than zero (as we have indicated, we are subtracting our Challenger proportion from General Proportion).\n",
    "\n",
    "We will be using asymptotic and computer-generated hypothesis tests to better understand our claim of 'F is for flash', and use confidence intervals generated with bootstrapping (standard error method due to having normally shaped distributions) to further extend this analysis"
   ]
  },
  {
   "cell_type": "markdown",
   "metadata": {},
   "source": [
    "### Hypothesis Test.\n",
    "\n",
    "For this project, our initial hypothesis is that there will be a higher proportion of flash being used in the Challenger division than Master division. So to better answer our question we will be performing a hypothesis test with our data. \n",
    "\n",
    "Therefore, our **null hypothesis** will be that our proportion of flash in Challenger and Master divisions are equal and our **alternative hypothesis** will be that the proportion o flash used in Challenger is greater than that of Master division. \n",
    "\n",
    "<br>\n",
    "\n",
    "$H_0$: challenger and master division players have the same proportion of flash on F <br>\n",
    "$H_A$: challenger division players have a higher proportion of flash on F than Master division players\n",
    "\n",
    "<br>\n",
    "\n",
    "And in Mathematical Notation (where $p_c$ is proportion of challenger players with flash on f and $p_m$ is proportion of master players with flash on f)\n",
    "\n",
    "$H_0$: $p_c - p_m = 0$ <br>\n",
    "$H_A$: $p_c - p_m > 0$"
   ]
  },
  {
   "cell_type": "markdown",
   "metadata": {},
   "source": [
    "##### Hypothesize The Null.\n",
    "\n",
    "We start by generating our null distributions for our regions. For this analysis, we will be using a significance level of 0.05. \n",
    "\n",
    "Since we are counting the values of flash being F for our proportion, we indicate success= 'True' in our specific function. Also in our hypothesize function, we chose null= 'independence' as we are testing whether our response variable 'division' is independent of our explanatory variable 'f_spell'. \n",
    "\n",
    "Indicating 'permute' in generating means we will be sampling without replacement using shuffling, which is common for Hypothesis testing. We choose 1000 shuffles for our testing.\n",
    "\n",
    "Also, note we will be generating shuffling samples of just the Master division data frames. We do this because our Master tier data frames are subsets of the overall Master tier population, and our Challenger division data frames are an exhaustive list of players within the Challenger division."
   ]
  },
  {
   "cell_type": "code",
   "execution_count": 137,
   "metadata": {},
   "outputs": [
    {
     "data": {
      "text/html": [
       "<table>\n",
       "<caption>A tibble: 6 × 2</caption>\n",
       "<thead>\n",
       "\t<tr><th scope=col>stat</th><th scope=col>region</th></tr>\n",
       "\t<tr><th scope=col>&lt;dbl&gt;</th><th scope=col>&lt;chr&gt;</th></tr>\n",
       "</thead>\n",
       "<tbody>\n",
       "\t<tr><td>-0.05306689</td><td>Brazil           </td></tr>\n",
       "\t<tr><td>-0.11679758</td><td>Europe West      </td></tr>\n",
       "\t<tr><td>-0.03824278</td><td>Korea            </td></tr>\n",
       "\t<tr><td>-0.04883495</td><td>North America    </td></tr>\n",
       "\t<tr><td>-0.05229120</td><td>Europe North East</td></tr>\n",
       "\t<tr><td>-0.09387583</td><td>Global           </td></tr>\n",
       "</tbody>\n",
       "</table>\n"
      ],
      "text/latex": [
       "A tibble: 6 × 2\n",
       "\\begin{tabular}{ll}\n",
       " stat & region\\\\\n",
       " <dbl> & <chr>\\\\\n",
       "\\hline\n",
       "\t -0.05306689 & Brazil           \\\\\n",
       "\t -0.11679758 & Europe West      \\\\\n",
       "\t -0.03824278 & Korea            \\\\\n",
       "\t -0.04883495 & North America    \\\\\n",
       "\t -0.05229120 & Europe North East\\\\\n",
       "\t -0.09387583 & Global           \\\\\n",
       "\\end{tabular}\n"
      ],
      "text/markdown": [
       "\n",
       "A tibble: 6 × 2\n",
       "\n",
       "| stat &lt;dbl&gt; | region &lt;chr&gt; |\n",
       "|---|---|\n",
       "| -0.05306689 | Brazil            |\n",
       "| -0.11679758 | Europe West       |\n",
       "| -0.03824278 | Korea             |\n",
       "| -0.04883495 | North America     |\n",
       "| -0.05229120 | Europe North East |\n",
       "| -0.09387583 | Global            |\n",
       "\n"
      ],
      "text/plain": [
       "  stat        region           \n",
       "1 -0.05306689 Brazil           \n",
       "2 -0.11679758 Europe West      \n",
       "3 -0.03824278 Korea            \n",
       "4 -0.04883495 North America    \n",
       "5 -0.05229120 Europe North East\n",
       "6 -0.09387583 Global           "
      ]
     },
     "metadata": {},
     "output_type": "display_data"
    }
   ],
   "source": [
    "set.seed(1337)\n",
    "\n",
    "### Our Null Distributions\n",
    "br_null_distribution <- brData %>%\n",
    "                    specify(formula= f_spell ~ division, success=\"TRUE\") %>%\n",
    "                    hypothesize(null=\"independence\") %>%\n",
    "                    generate(reps = 1000, type = \"permute\") %>%\n",
    "                    calculate(stat = \"diff in props\", order = c(\"Challenger\", \"Master\"))\n",
    "\n",
    "euw_null_distribution <- euwData %>%\n",
    "                    specify(formula= f_spell ~ division, success=\"TRUE\") %>%\n",
    "                    hypothesize(null=\"independence\") %>%\n",
    "                    generate(reps = 1000, type = \"permute\") %>%\n",
    "                    calculate(stat = \"diff in props\", order = c(\"Challenger\", \"Master\"))\n",
    "\n",
    "kr_null_distribution <- krData %>%\n",
    "                    specify(formula= f_spell ~ division, success=\"TRUE\") %>%\n",
    "                    hypothesize(null=\"independence\") %>%\n",
    "                    generate(reps = 1000, type = \"permute\") %>%\n",
    "                    calculate(stat = \"diff in props\", order = c(\"Challenger\", \"Master\"))\n",
    "\n",
    "na_null_distribution <- naData %>%\n",
    "                    specify(formula= f_spell ~ division, success=\"TRUE\") %>%\n",
    "                    hypothesize(null=\"independence\") %>%\n",
    "                    generate(reps = 1000, type = \"permute\") %>%\n",
    "                    calculate(stat = \"diff in props\", order = c(\"Challenger\", \"Master\"))\n",
    "\n",
    "eune_null_distribution <- euneData %>%\n",
    "                    specify(formula= f_spell ~ division, success=\"TRUE\") %>%\n",
    "                    hypothesize(null=\"independence\") %>%\n",
    "                    generate(reps = 1000, type = \"permute\") %>%\n",
    "                    calculate(stat = \"diff in props\", order = c(\"Challenger\", \"Master\"))\n",
    "\n",
    "global_null_distribution <- globalData %>%\n",
    "                    specify(formula= f_spell ~ division, success=\"TRUE\") %>%\n",
    "                    hypothesize(null=\"independence\") %>%\n",
    "                    generate(reps = 1000, type = \"permute\") %>%\n",
    "                    calculate(stat = \"diff in props\", order = c(\"Challenger\", \"Master\"))\n",
    "\n",
    "# Our Observed difference in proportions\n",
    "rbind(br_obs_diff_prop, euw_obs_diff_prop, kr_obs_diff_prop, na_obs_diff_prop, eune_obs_diff_prop, global_obs_diff_prop)\n"
   ]
  },
  {
   "cell_type": "markdown",
   "metadata": {},
   "source": [
    "###### Visualize the p-value\n",
    "\n",
    "Now we will see how our observed difference above stacks up to our hypothesized distributions. We start by visualizing our null distributions for each region $\\hat p_c - \\hat p_m$ using visualize.\n",
    "\n",
    "Then we will add the real-life data we collected to the plot and shade the values indicating our alternative hypothesis (p_values). This will be done by indicating direction= 'right' in our shade_p_values function indicating what we expected that $p_c - p_m > 0$ (proportion in challenger division to be greater than that in master division)."
   ]
  },
  {
   "cell_type": "code",
   "execution_count": 138,
   "metadata": {},
   "outputs": [
    {
     "data": {
      "image/png": "[encoded data removed]",
      "text/plain": [
       "plot without title"
      ]
     },
     "metadata": {
      "image/png": {
       "height": 420,
       "width": 420
      }
     },
     "output_type": "display_data"
    }
   ],
   "source": [
    "set.seed(1337)\n",
    "\n",
    "### Simulation Based Null Distribution\n",
    "br_null_visual <- br_null_distribution %>% \n",
    "                    visualize() +\n",
    "                    shade_p_value(obs_stat = br_obs_diff_prop[,1], direction='right') +\n",
    "                    labs(title = 'Brazil Null Distribution', x = 'Difference in Proportion')\n",
    "\n",
    "euw_null_visual <- euw_null_distribution %>% \n",
    "                    visualize() +\n",
    "                    shade_p_value(obs_stat = euw_obs_diff_prop[,1], direction='right') +\n",
    "                    labs(title = 'Europe West Null Distribution', x = 'Difference in Proportion')\n",
    "\n",
    "kr_null_visual <- kr_null_distribution %>% \n",
    "                    visualize() +\n",
    "                    shade_p_value(obs_stat = kr_obs_diff_prop[,1], direction='right') +\n",
    "                    labs(title = 'Korea Null Distribution', x = 'Difference in Proportion')\n",
    "\n",
    "na_null_visual <- na_null_distribution %>% \n",
    "                    visualize() +\n",
    "                    shade_p_value(obs_stat = na_obs_diff_prop[,1], direction='right') +\n",
    "                    labs(title = 'North America Null Distribution', x = 'Difference in Proportion')\n",
    "\n",
    "eune_null_visual <- eune_null_distribution %>% \n",
    "                    visualize() +\n",
    "                    shade_p_value(obs_stat = eune_obs_diff_prop[,1], direction='right') +\n",
    "                    labs(title = 'Europe North East Null Distribution', x = 'Difference in Proportion')\n",
    "\n",
    "global_null_visual <- global_null_distribution %>% \n",
    "                    visualize() +\n",
    "                    shade_p_value(obs_stat = global_obs_diff_prop[,1], direction='right') +\n",
    "                    labs(title = 'Gloabl Null Distribution', x = 'Difference in Proportion')\n",
    "\n",
    "grid.arrange(br_null_visual, euw_null_visual, kr_null_visual, na_null_visual, eune_null_visual, global_null_visual, ncol=2)\n",
    "grid.rect(gp=gpar(fill=NA))"
   ]
  },
  {
   "cell_type": "markdown",
   "metadata": {},
   "source": [
    "###### p-value.\n",
    "\n",
    "Observing our graphs above, it seems our p-value will be quite large for all of our regions. Regarding the p-value, we are observing the probability of obtaining our test statistic just as extreme or even more extreme than our observed test statistic assuming our null hypothesis is true. So it seems we would often observe differences in proportions similar or greater than our initial observed difference in proportion in this hypothesized universe of no difference ($p_c - p_m = 0$)\n",
    "\n",
    "Now, let's calculate these values so we can get and compare them to our significance level."
   ]
  },
  {
   "cell_type": "code",
   "execution_count": 139,
   "metadata": {},
   "outputs": [
    {
     "data": {
      "text/html": [
       "<table>\n",
       "<caption>A tibble: 6 × 2</caption>\n",
       "<thead>\n",
       "\t<tr><th scope=col>p_value</th><th scope=col>region</th></tr>\n",
       "\t<tr><th scope=col>&lt;dbl&gt;</th><th scope=col>&lt;chr&gt;</th></tr>\n",
       "</thead>\n",
       "<tbody>\n",
       "\t<tr><td>0.891</td><td>Brazil           </td></tr>\n",
       "\t<tr><td>0.989</td><td>Europe West      </td></tr>\n",
       "\t<tr><td>0.839</td><td>Korea            </td></tr>\n",
       "\t<tr><td>0.859</td><td>North America    </td></tr>\n",
       "\t<tr><td>0.881</td><td>Europe North East</td></tr>\n",
       "\t<tr><td>1.000</td><td>Global           </td></tr>\n",
       "</tbody>\n",
       "</table>\n"
      ],
      "text/latex": [
       "A tibble: 6 × 2\n",
       "\\begin{tabular}{ll}\n",
       " p\\_value & region\\\\\n",
       " <dbl> & <chr>\\\\\n",
       "\\hline\n",
       "\t 0.891 & Brazil           \\\\\n",
       "\t 0.989 & Europe West      \\\\\n",
       "\t 0.839 & Korea            \\\\\n",
       "\t 0.859 & North America    \\\\\n",
       "\t 0.881 & Europe North East\\\\\n",
       "\t 1.000 & Global           \\\\\n",
       "\\end{tabular}\n"
      ],
      "text/markdown": [
       "\n",
       "A tibble: 6 × 2\n",
       "\n",
       "| p_value &lt;dbl&gt; | region &lt;chr&gt; |\n",
       "|---|---|\n",
       "| 0.891 | Brazil            |\n",
       "| 0.989 | Europe West       |\n",
       "| 0.839 | Korea             |\n",
       "| 0.859 | North America     |\n",
       "| 0.881 | Europe North East |\n",
       "| 1.000 | Global            |\n",
       "\n"
      ],
      "text/plain": [
       "  p_value region           \n",
       "1 0.891   Brazil           \n",
       "2 0.989   Europe West      \n",
       "3 0.839   Korea            \n",
       "4 0.859   North America    \n",
       "5 0.881   Europe North East\n",
       "6 1.000   Global           "
      ]
     },
     "metadata": {},
     "output_type": "display_data"
    }
   ],
   "source": [
    "set.seed(1337)\n",
    "\n",
    "# Get p-values\n",
    "br_p_value <- br_null_distribution %>%\n",
    "                get_p_value(obs_stat = br_obs_diff_prop[,1], direction ='right') %>%\n",
    "                mutate(region = 'Brazil')\n",
    "\n",
    "euw_p_value <- euw_null_distribution %>%\n",
    "                get_p_value(obs_stat = euw_obs_diff_prop[,1], direction ='right') %>%\n",
    "                mutate(region = 'Europe West')\n",
    "\n",
    "kr_p_value <- kr_null_distribution %>%\n",
    "                get_p_value(obs_stat = kr_obs_diff_prop[,1], direction ='right') %>%\n",
    "                mutate(region = 'Korea')\n",
    "\n",
    "na_p_value <- na_null_distribution %>%\n",
    "                get_p_value(obs_stat = na_obs_diff_prop[,1], direction ='right') %>%\n",
    "                mutate(region = 'North America')\n",
    "\n",
    "eune_p_value <- eune_null_distribution %>%\n",
    "                get_p_value(obs_stat = eune_obs_diff_prop[,1], direction ='right') %>%\n",
    "                mutate(region = 'Europe North East')\n",
    "\n",
    "global_p_value <- global_null_distribution %>%\n",
    "                get_p_value(obs_stat = global_obs_diff_prop[,1], direction ='right') %>%\n",
    "                mutate(region = 'Global')\n",
    "\n",
    "rbind(br_p_value, euw_p_value, kr_p_value, na_p_value, eune_p_value, global_p_value)"
   ]
  },
  {
   "cell_type": "markdown",
   "metadata": {},
   "source": [
    "From these results we can now say that the probability of observing a difference in proportions as large as the observed test statistics due to sampling variation aline in the null distribution is:\n",
    "* Brazil: 89.1%\n",
    "* Europe West: 98.9%\n",
    "* Korea: 83.9%\n",
    "* North America: 85.9%\n",
    "* Europe North West: 88.1%\n",
    "* Global: 100%\n",
    "\n",
    " \n",
    "Since the significance level we defined is 0.05, we fail to reject $H_0$ in all six cases.\n",
    "\n",
    "From this we can not make any claims in favor of proportion of flash on F as an indicator of rank in the upper tiers."
   ]
  },
  {
   "cell_type": "markdown",
   "metadata": {},
   "source": [
    "### Camparing With Confidence Intervals.\n",
    "\n",
    "We will be generating a 95% confidence interval for $p_c - p_m$ using bootstrapping below. We will be using the standard error method of computing the confidence intervals as our distributions are relatively normally shaped."
   ]
  },
  {
   "cell_type": "code",
   "execution_count": 140,
   "metadata": {},
   "outputs": [
    {
     "data": {
      "text/html": [
       "<table>\n",
       "<caption>A tibble: 6 × 3</caption>\n",
       "<thead>\n",
       "\t<tr><th scope=col>lower_ci</th><th scope=col>upper_ci</th><th scope=col>region</th></tr>\n",
       "\t<tr><th scope=col>&lt;dbl&gt;</th><th scope=col>&lt;dbl&gt;</th><th scope=col>&lt;chr&gt;</th></tr>\n",
       "</thead>\n",
       "<tbody>\n",
       "\t<tr><td>-0.1545413</td><td> 0.04840749</td><td>Brazil           </td></tr>\n",
       "\t<tr><td>-0.2128573</td><td>-0.02073781</td><td>Europe West      </td></tr>\n",
       "\t<tr><td>-0.1252069</td><td> 0.04872134</td><td>Korea            </td></tr>\n",
       "\t<tr><td>-0.1460832</td><td> 0.04841327</td><td>North America    </td></tr>\n",
       "\t<tr><td>-0.1540824</td><td> 0.04950003</td><td>Europe North East</td></tr>\n",
       "\t<tr><td>-0.1363941</td><td>-0.05135752</td><td>Global           </td></tr>\n",
       "</tbody>\n",
       "</table>\n"
      ],
      "text/latex": [
       "A tibble: 6 × 3\n",
       "\\begin{tabular}{lll}\n",
       " lower\\_ci & upper\\_ci & region\\\\\n",
       " <dbl> & <dbl> & <chr>\\\\\n",
       "\\hline\n",
       "\t -0.1545413 &  0.04840749 & Brazil           \\\\\n",
       "\t -0.2128573 & -0.02073781 & Europe West      \\\\\n",
       "\t -0.1252069 &  0.04872134 & Korea            \\\\\n",
       "\t -0.1460832 &  0.04841327 & North America    \\\\\n",
       "\t -0.1540824 &  0.04950003 & Europe North East\\\\\n",
       "\t -0.1363941 & -0.05135752 & Global           \\\\\n",
       "\\end{tabular}\n"
      ],
      "text/markdown": [
       "\n",
       "A tibble: 6 × 3\n",
       "\n",
       "| lower_ci &lt;dbl&gt; | upper_ci &lt;dbl&gt; | region &lt;chr&gt; |\n",
       "|---|---|---|\n",
       "| -0.1545413 |  0.04840749 | Brazil            |\n",
       "| -0.2128573 | -0.02073781 | Europe West       |\n",
       "| -0.1252069 |  0.04872134 | Korea             |\n",
       "| -0.1460832 |  0.04841327 | North America     |\n",
       "| -0.1540824 |  0.04950003 | Europe North East |\n",
       "| -0.1363941 | -0.05135752 | Global            |\n",
       "\n"
      ],
      "text/plain": [
       "  lower_ci   upper_ci    region           \n",
       "1 -0.1545413  0.04840749 Brazil           \n",
       "2 -0.2128573 -0.02073781 Europe West      \n",
       "3 -0.1252069  0.04872134 Korea            \n",
       "4 -0.1460832  0.04841327 North America    \n",
       "5 -0.1540824  0.04950003 Europe North East\n",
       "6 -0.1363941 -0.05135752 Global           "
      ]
     },
     "metadata": {},
     "output_type": "display_data"
    },
    {
     "data": {
      "image/png": "[encoded data removed]",
      "text/plain": [
       "plot without title"
      ]
     },
     "metadata": {
      "image/png": {
       "height": 420,
       "width": 420
      }
     },
     "output_type": "display_data"
    }
   ],
   "source": [
    "set.seed(1337)\n",
    "\n",
    "### Create Our Bootstrap Distributions\n",
    "br_boot_distribution <- brData %>%\n",
    "                    specify(formula= f_spell ~ division, success=\"TRUE\") %>%\n",
    "                    generate(reps = 1000, type = \"bootstrap\") %>%\n",
    "                    calculate(stat = \"diff in props\", order = c(\"Challenger\", \"Master\"))\n",
    "\n",
    "euw_boot_distribution <- euwData %>%\n",
    "                    specify(formula= f_spell ~ division, success=\"TRUE\") %>%\n",
    "                    generate(reps = 1000, type = \"bootstrap\") %>%\n",
    "                    calculate(stat = \"diff in props\", order = c(\"Challenger\", \"Master\"))\n",
    "\n",
    "kr_boot_distribution <- krData %>%\n",
    "                    specify(formula= f_spell ~ division, success=\"TRUE\") %>%\n",
    "                    generate(reps = 1000, type = \"bootstrap\") %>%\n",
    "                    calculate(stat = \"diff in props\", order = c(\"Challenger\", \"Master\"))\n",
    "\n",
    "na_boot_distribution <- naData %>%\n",
    "                    specify(formula= f_spell ~ division, success=\"TRUE\") %>%\n",
    "                    generate(reps = 1000, type = \"bootstrap\") %>%\n",
    "                    calculate(stat = \"diff in props\", order = c(\"Challenger\", \"Master\"))\n",
    "\n",
    "eune_boot_distribution <- euneData %>%\n",
    "                    specify(formula= f_spell ~ division, success=\"TRUE\") %>%\n",
    "                    generate(reps = 1000, type = \"bootstrap\") %>%\n",
    "                    calculate(stat = \"diff in props\", order = c(\"Challenger\", \"Master\"))\n",
    "\n",
    "global_boot_distribution <- globalData %>%\n",
    "                    specify(formula= f_spell ~ division, success=\"TRUE\") %>%\n",
    "                    generate(reps = 1000, type = \"bootstrap\") %>%\n",
    "                    calculate(stat = \"diff in props\", order = c(\"Challenger\", \"Master\"))\n",
    "\n",
    "\n",
    "### Get Confidence Intervals\n",
    "br_se_ci <- br_boot_distribution %>% \n",
    "                    get_confidence_interval(level = 0.95, type = \"se\", \n",
    "                          point_estimate = br_obs_diff_prop[,1]) \n",
    "\n",
    "euw_se_ci <- euw_boot_distribution %>% \n",
    "                    get_confidence_interval(level = 0.95, type = \"se\", \n",
    "                          point_estimate = euw_obs_diff_prop[,1]) \n",
    "\n",
    "kr_se_ci <- kr_boot_distribution %>% \n",
    "                    get_confidence_interval(level = 0.95, type = \"se\", \n",
    "                          point_estimate = kr_obs_diff_prop[,1]) \n",
    " \n",
    "na_se_ci <- na_boot_distribution %>% \n",
    "                    get_confidence_interval(level = 0.95, type = \"se\", \n",
    "                          point_estimate = na_obs_diff_prop[,1]) \n",
    "eune_se_ci <- eune_boot_distribution %>% \n",
    "                    get_confidence_interval(level = 0.95, type = \"se\", \n",
    "                          point_estimate = eune_obs_diff_prop[,1]) \n",
    "\n",
    "global_se_ci <- global_boot_distribution %>% \n",
    "                    get_confidence_interval(level = 0.95, type = \"se\", \n",
    "                          point_estimate = global_obs_diff_prop[,1]) \n",
    "\n",
    "\n",
    "### Visualize Confidence Intervals\n",
    "br_boot_visual <- br_boot_distribution %>%\n",
    "                    visualize() +\n",
    "                    shade_confidence_interval(endpoints = br_se_ci)\n",
    "\n",
    "euw_boot_visual <- euw_boot_distribution %>%\n",
    "                    visualize() +\n",
    "                    shade_confidence_interval(endpoints = euw_se_ci)\n",
    "\n",
    "kr_boot_visual <- kr_boot_distribution %>%\n",
    "                    visualize() +\n",
    "                    shade_confidence_interval(endpoints = kr_se_ci)\n",
    "\n",
    "na_boot_visual <- na_boot_distribution %>%\n",
    "                    visualize() +\n",
    "                    shade_confidence_interval(endpoints = na_se_ci)\n",
    "\n",
    "eune_boot_visual <- eune_boot_distribution %>%\n",
    "                    visualize() +\n",
    "                    shade_confidence_interval(endpoints = eune_se_ci)\n",
    "\n",
    "global_boot_visual <- global_boot_distribution %>%\n",
    "                    visualize() +\n",
    "                    shade_confidence_interval(endpoints = global_se_ci)\n",
    "\n",
    "# View Visuals\n",
    "grid.arrange(br_boot_visual, euw_boot_visual, kr_boot_visual, na_boot_visual, eune_boot_visual, global_boot_visual, ncol=2)\n",
    "grid.rect(gp=gpar(fill=NA))\n",
    "\n",
    "# View CIs\n",
    "rbind(br_se_ci %>% mutate(region = 'Brazil'), euw_se_ci %>% mutate(region = 'Europe West'), \n",
    "      kr_se_ci %>% mutate(region = 'Korea'), na_se_ci %>% mutate(region = 'North America'), \n",
    "      eune_se_ci %>% mutate(region = 'Europe North East'), global_se_ci %>% mutate(region = 'Global'))"
   ]
  },
  {
   "cell_type": "markdown",
   "metadata": {},
   "source": [
    "#####  CI Observations\n",
    "From our table and graphs above, notice the distributions that do not include zero. \n",
    "\n",
    "Europe West and the Global distributions do not include the value of zero. This indicates that the values of $p_c$ and $p_m$ are truly different, however in contrast to our original hypothesis. That is, flash on D is more indicative of higher ranks in Europe West and the overall general population. \n",
    "\n",
    "**Note:** we are 95% confident that the values fall in the confidence intervals in the table above.\n",
    "\n",
    "The other distributions not mentioned all contain zero so no claims that $p_c$ and $p_m$ can be justified."
   ]
  },
  {
   "cell_type": "markdown",
   "metadata": {},
   "source": [
    "### Hypothesis Testing using Two-sample z-test"
   ]
  },
  {
   "cell_type": "markdown",
   "metadata": {},
   "source": [
    "We used computer-generated methods in approximating our Hypothesis test above, so now we will do the same, but using the Two-sample Z-test. We use this when we want to compare two proportions.\n",
    "\n",
    "To test $H_0$ we use the following test statistic:\n",
    "\n",
    "$Z = \\frac{\\hat p_c - \\hat p_,}{sqrt(\\hat p (1 - \\hat p) (\\frac{1}{n_c} + \\frac {1}{n_m}))}$"
   ]
  },
  {
   "cell_type": "markdown",
   "metadata": {},
   "source": [
    "where $\\hat p$ is defined as the pooled proportion given by:\n",
    "\n",
    "$\\hat p = \\frac{n_cp_c + n_mp_m}{n_c + n_m}$\n",
    "\n",
    "and $n_c$ and $n_m$ are the sample sizes.\n",
    "\n",
    "Since we are relying on the CLT, if the sample size is such that $n \\hat p \\geq 10$ and $n(1 - \\hat p) \\geq 10$, our approzimation of the null-model by standard Gaussian will work fairly well."
   ]
  },
  {
   "cell_type": "markdown",
   "metadata": {},
   "source": [
    "Now lets generate the variables needed to find our results:"
   ]
  },
  {
   "cell_type": "code",
   "execution_count": 141,
   "metadata": {},
   "outputs": [
    {
     "data": {
      "text/html": [
       "<table>\n",
       "<caption>A matrix: 24 × 1 of type lgl</caption>\n",
       "<thead>\n",
       "\t<tr><th scope=col>mean</th></tr>\n",
       "</thead>\n",
       "<tbody>\n",
       "\t<tr><td>TRUE</td></tr>\n",
       "\t<tr><td>TRUE</td></tr>\n",
       "\t<tr><td>TRUE</td></tr>\n",
       "\t<tr><td>TRUE</td></tr>\n",
       "\t<tr><td>TRUE</td></tr>\n",
       "\t<tr><td>TRUE</td></tr>\n",
       "\t<tr><td>TRUE</td></tr>\n",
       "\t<tr><td>TRUE</td></tr>\n",
       "\t<tr><td>TRUE</td></tr>\n",
       "\t<tr><td>TRUE</td></tr>\n",
       "\t<tr><td>TRUE</td></tr>\n",
       "\t<tr><td>TRUE</td></tr>\n",
       "\t<tr><td>TRUE</td></tr>\n",
       "\t<tr><td>TRUE</td></tr>\n",
       "\t<tr><td>TRUE</td></tr>\n",
       "\t<tr><td>TRUE</td></tr>\n",
       "\t<tr><td>TRUE</td></tr>\n",
       "\t<tr><td>TRUE</td></tr>\n",
       "\t<tr><td>TRUE</td></tr>\n",
       "\t<tr><td>TRUE</td></tr>\n",
       "\t<tr><td>TRUE</td></tr>\n",
       "\t<tr><td>TRUE</td></tr>\n",
       "\t<tr><td>TRUE</td></tr>\n",
       "\t<tr><td>TRUE</td></tr>\n",
       "</tbody>\n",
       "</table>\n"
      ],
      "text/latex": [
       "A matrix: 24 × 1 of type lgl\n",
       "\\begin{tabular}{l}\n",
       " mean\\\\\n",
       "\\hline\n",
       "\t TRUE\\\\\n",
       "\t TRUE\\\\\n",
       "\t TRUE\\\\\n",
       "\t TRUE\\\\\n",
       "\t TRUE\\\\\n",
       "\t TRUE\\\\\n",
       "\t TRUE\\\\\n",
       "\t TRUE\\\\\n",
       "\t TRUE\\\\\n",
       "\t TRUE\\\\\n",
       "\t TRUE\\\\\n",
       "\t TRUE\\\\\n",
       "\t TRUE\\\\\n",
       "\t TRUE\\\\\n",
       "\t TRUE\\\\\n",
       "\t TRUE\\\\\n",
       "\t TRUE\\\\\n",
       "\t TRUE\\\\\n",
       "\t TRUE\\\\\n",
       "\t TRUE\\\\\n",
       "\t TRUE\\\\\n",
       "\t TRUE\\\\\n",
       "\t TRUE\\\\\n",
       "\t TRUE\\\\\n",
       "\\end{tabular}\n"
      ],
      "text/markdown": [
       "\n",
       "A matrix: 24 × 1 of type lgl\n",
       "\n",
       "| mean |\n",
       "|---|\n",
       "| TRUE |\n",
       "| TRUE |\n",
       "| TRUE |\n",
       "| TRUE |\n",
       "| TRUE |\n",
       "| TRUE |\n",
       "| TRUE |\n",
       "| TRUE |\n",
       "| TRUE |\n",
       "| TRUE |\n",
       "| TRUE |\n",
       "| TRUE |\n",
       "| TRUE |\n",
       "| TRUE |\n",
       "| TRUE |\n",
       "| TRUE |\n",
       "| TRUE |\n",
       "| TRUE |\n",
       "| TRUE |\n",
       "| TRUE |\n",
       "| TRUE |\n",
       "| TRUE |\n",
       "| TRUE |\n",
       "| TRUE |\n",
       "\n"
      ],
      "text/plain": [
       "      mean\n",
       " [1,] TRUE\n",
       " [2,] TRUE\n",
       " [3,] TRUE\n",
       " [4,] TRUE\n",
       " [5,] TRUE\n",
       " [6,] TRUE\n",
       " [7,] TRUE\n",
       " [8,] TRUE\n",
       " [9,] TRUE\n",
       "[10,] TRUE\n",
       "[11,] TRUE\n",
       "[12,] TRUE\n",
       "[13,] TRUE\n",
       "[14,] TRUE\n",
       "[15,] TRUE\n",
       "[16,] TRUE\n",
       "[17,] TRUE\n",
       "[18,] TRUE\n",
       "[19,] TRUE\n",
       "[20,] TRUE\n",
       "[21,] TRUE\n",
       "[22,] TRUE\n",
       "[23,] TRUE\n",
       "[24,] TRUE"
      ]
     },
     "metadata": {},
     "output_type": "display_data"
    }
   ],
   "source": [
    "### Check to see if the conditions above hold.\n",
    "\n",
    "# n1 will size of challenger data frames, n2 size of master data frame\n",
    "br_n1 <- nrow(chalDataBR)  \n",
    "br_n2 <- nrow(mastDataBR)\n",
    "\n",
    "euw_n1 <- nrow(chalDataEUW)  \n",
    "euw_n2 <- nrow(mastDataEUW)\n",
    "\n",
    "kr_n1 <- nrow(chalDataKR)  \n",
    "kr_n2 <- nrow(mastDataKR)\n",
    "\n",
    "na_n1 <- nrow(chalDataNA)  \n",
    "na_n2 <- nrow(mastDataNA)\n",
    "\n",
    "eune_n1 <- nrow(chalDataEUNE)  \n",
    "eune_n2 <- nrow(mastDataEUNE)\n",
    "\n",
    "global_n1 <- nrow(chalDataGloabl)  \n",
    "global_n2 <- nrow(mastDataGloabl)\n",
    "\n",
    "# pc proportion of flash in challenger, pm will be proportion in master\n",
    "br_pc <- chalDataBR %>% \n",
    "            summarize(mean = mean(f_spell))\n",
    "\n",
    "br_pm <- mastDataBR %>%\n",
    "            summarize(mean = mean(f_spell))\n",
    "\n",
    "\n",
    "euw_pc <- chalDataEUW %>% \n",
    "            summarize(mean = mean(f_spell))\n",
    "\n",
    "euw_pm <- mastDataEUW %>%\n",
    "            summarize(mean = mean(f_spell))\n",
    "                   \n",
    "\n",
    "kr_pc <- chalDataKR %>% \n",
    "            summarize(mean = mean(f_spell))\n",
    "\n",
    "kr_pm <- mastDataKR %>%\n",
    "            summarize(mean = mean(f_spell))\n",
    "                  \n",
    "\n",
    "na_pc <- chalDataNA %>% \n",
    "            summarize(mean = mean(f_spell))\n",
    "\n",
    "na_pm <- mastDataNA %>%\n",
    "            summarize(mean = mean(f_spell))\n",
    "\n",
    "\n",
    "eune_pc <- chalDataEUNE %>% \n",
    "            summarize(mean = mean(f_spell))\n",
    "\n",
    "eune_pm <- mastDataEUNE %>%\n",
    "            summarize(mean = mean(f_spell))\n",
    "\n",
    "\n",
    "global_pc <- chalDataGloabl %>% \n",
    "            summarize(mean = mean(f_spell))\n",
    "\n",
    "global_pm <- mastDataGloabl %>%\n",
    "            summarize(mean = mean(f_spell))\n",
    "                      \n",
    "# Verify conditions above\n",
    "                  \n",
    "rbind(br_n1*br_pc >= 10, br_n1*(1-br_pc) >= 10,\n",
    "      br_n2*br_pm >= 10, br_n2*(1-br_pm) >= 10,\n",
    "      euw_n1*euw_pc >= 10, euw_n1*(1-euw_pc) >= 10,\n",
    "      euw_n2*euw_pm >= 10, euw_n2*(1-euw_pm) >= 10,\n",
    "      kr_n1*kr_pc >= 10, kr_n1*(1-kr_pc) >= 10,\n",
    "      kr_n2*kr_pm >= 10, kr_n2*(1-kr_pm) >= 10,\n",
    "      na_n1*na_pc >= 10, na_n1*(1-na_pc) >= 10,\n",
    "      na_n2*na_pm >= 10, na_n2*(1-na_pm) >= 10,\n",
    "      eune_n1*eune_pm >= 10, eune_n1*(1-eune_pc) >= 10,\n",
    "      eune_n2*br_pc >= 10, eune_n2*(1-eune_pm) >= 10,\n",
    "      global_n1*global_pc >= 10, global_n1*(1-global_pc) >= 10,\n",
    "      global_n2*global_pm >= 10, global_n2*(1-global_pm) >= 10)"
   ]
  },
  {
   "cell_type": "markdown",
   "metadata": {},
   "source": [
    "###### Condition Check.\n",
    "\n",
    "All conditions have been met, so we will continue with our procedure. \n",
    "\n",
    "<br>"
   ]
  },
  {
   "cell_type": "code",
   "execution_count": 142,
   "metadata": {},
   "outputs": [
    {
     "data": {
      "text/html": [
       "<table>\n",
       "<caption>A data.frame: 6 × 1</caption>\n",
       "<thead>\n",
       "\t<tr><th scope=col>mean</th></tr>\n",
       "\t<tr><th scope=col>&lt;dbl&gt;</th></tr>\n",
       "</thead>\n",
       "<tbody>\n",
       "\t<tr><td>-1.0567999</td></tr>\n",
       "\t<tr><td>-2.4236813</td></tr>\n",
       "\t<tr><td>-0.8530110</td></tr>\n",
       "\t<tr><td>-0.9843196</td></tr>\n",
       "\t<tr><td>-1.0107031</td></tr>\n",
       "\t<tr><td>-2.4146201</td></tr>\n",
       "</tbody>\n",
       "</table>\n"
      ],
      "text/latex": [
       "A data.frame: 6 × 1\n",
       "\\begin{tabular}{l}\n",
       " mean\\\\\n",
       " <dbl>\\\\\n",
       "\\hline\n",
       "\t -1.0567999\\\\\n",
       "\t -2.4236813\\\\\n",
       "\t -0.8530110\\\\\n",
       "\t -0.9843196\\\\\n",
       "\t -1.0107031\\\\\n",
       "\t -2.4146201\\\\\n",
       "\\end{tabular}\n"
      ],
      "text/markdown": [
       "\n",
       "A data.frame: 6 × 1\n",
       "\n",
       "| mean &lt;dbl&gt; |\n",
       "|---|\n",
       "| -1.0567999 |\n",
       "| -2.4236813 |\n",
       "| -0.8530110 |\n",
       "| -0.9843196 |\n",
       "| -1.0107031 |\n",
       "| -2.4146201 |\n",
       "\n"
      ],
      "text/plain": [
       "  mean      \n",
       "1 -1.0567999\n",
       "2 -2.4236813\n",
       "3 -0.8530110\n",
       "4 -0.9843196\n",
       "5 -1.0107031\n",
       "6 -2.4146201"
      ]
     },
     "metadata": {},
     "output_type": "display_data"
    }
   ],
   "source": [
    "### Calculating Test Statistic for Each Region\n",
    "\n",
    "# Generate pool proportion for each region\n",
    "br_pool_prop <- (br_n1 * br_pc + br_n2 * br_pm)/(br_n1 + br_n2)\n",
    "euw_pool_prop <- (euw_n1 * euw_pc + euw_n2 * euw_pm)/(euw_n1 + euw_n2)\n",
    "kr_pool_prop <- (kr_n1 * kr_pc + kr_n2 * kr_pm)/(kr_n1 + kr_n2)\n",
    "na_pool_prop <- (na_n1 * na_pc + na_n2 * na_pm)/(na_n1 + na_n2)\n",
    "eune_pool_prop <- (eune_n1 * eune_pc + eune_n2 * eune_pm)/(eune_n1 + eune_n2)\n",
    "global_pool_prop <- (global_n1 * global_pc + global_n2 * global_pm)/(global_n1 + global_n2)\n",
    "\n",
    "\n",
    "# Calculate Test Stats\n",
    "br_test_stat <- (br_pc - br_pm) / (sqrt(br_pool_prop*(1-br_pool_prop)*(1/br_n1 + 1/br_n2)))\n",
    "euw_test_stat <- (euw_pc - euw_pm) / (sqrt(euw_pool_prop*(1-euw_pool_prop)*(1/euw_n1 + 1/euw_n2)))\n",
    "kr_test_stat <- (kr_pc - kr_pm) / (sqrt(kr_pool_prop*(1-kr_pool_prop)*(1/kr_n1 + 1/kr_n2)))\n",
    "na_test_stat <- (na_pc - na_pm) / (sqrt(na_pool_prop*(1-na_pool_prop)*(1/na_n1 + 1/na_n2)))\n",
    "eune_test_stat <- (eune_pc - eune_pm) / (sqrt(eune_pool_prop*(1-eune_pool_prop)*(1/eune_n1 + 1/eune_n2)))\n",
    "global_test_stat <- (global_pc - global_pm) / (sqrt(global_pool_prop*(1-global_pool_prop)*(1/global_n1 + 1/global_n2)))\n",
    "\n",
    "\n",
    "rbind(br_test_stat, euw_test_stat, kr_test_stat, na_test_stat, eune_test_stat, global_test_stat)\n",
    "\n",
    "\n",
    "### Calculate p-value\n",
    "br_p_value_ztest <- 2 * pnorm(br_test_stat[1,], lower.tail = FALSE)\n",
    "euw_p_value_ztest <- 2 * pnorm(euw_test_stat[1,], lower.tail = FALSE)\n",
    "kr_p_value_ztest <- 2 * pnorm(kr_test_stat[1,], lower.tail = FALSE)\n",
    "na_p_value_ztest <- 2 * pnorm(na_test_stat[1,], lower.tail = FALSE)\n",
    "eune_p_value_ztest <- 2 * pnorm(eune_test_stat[1,], lower.tail = FALSE)\n",
    "global_p_value_ztest <- 2 * pnorm(global_test_stat[1,], lower.tail = FALSE)"
   ]
  },
  {
   "cell_type": "markdown",
   "metadata": {},
   "source": [
    "##### Interpretting Results.\n",
    "\n",
    "At a 0.05 significance level, like our computer-generated hypothesis testing, we fail to reject the null hypothesis. The p-values generated here are much higher than those generated above, however, both are much larger than the 0.05 significance level."
   ]
  },
  {
   "cell_type": "markdown",
   "metadata": {},
   "source": [
    "### Comparing Asymptotic and Computer Generated Hypothesis Testing.\n",
    "Judging our results above I believe the bootstrapping results are more appropriate than the other. With p-values greater than one represented above, it seems unrealistic to get probability values greater than one (since the p-value should be between 0 and 1 ideally). I believe each method gave different results because our samples were very large. We were presented in class, ideally, that we should use samples with sizes between 30 and 50 to obtain the best results. With sample sizes as large as 220 this could make our asymptotic data too skewed to make proper calculations. Also, the samples were different sizes therefore this is the main contributor of these obscure values.\n",
    "\n",
    "All in all, I believe the Bootstrapping hypothesis test is more trustworthy due to the p-values generated above for the asymptotic test. We obtained p-values between zero and one for our bootstrapping hypothesis test, however, both tests generated large values indicating that there is no way for us to reject our null hypothesis."
   ]
  },
  {
   "cell_type": "markdown",
   "metadata": {},
   "source": [
    "## Discussion.\n",
    "This was a wonderful project to work on and I feel very confident in my results and methods to generate them."
   ]
  },
  {
   "cell_type": "markdown",
   "metadata": {},
   "source": [
    "##### The results.\n",
    "We began this project with the idea that flash on the F key was an indicator of higher-level play. To answer this question, we gathered the Challenger and Master division data frames to observe the differences between the two. Despite Master tier being a high tier in itself, the level of play on the League of Legends solo queue ladder is exponential. That is there will be clear differences in play between the two.\n",
    "\n",
    "We first began by testing our hypothesis using computer-generated resampling. Our Hypothesis test was based on a 0.05 significance level and we obtained p-values all greater than 0.05. To be specific, our p-values were:"
   ]
  },
  {
   "cell_type": "code",
   "execution_count": 143,
   "metadata": {},
   "outputs": [
    {
     "data": {
      "text/html": [
       "<table>\n",
       "<caption>A tibble: 6 × 3</caption>\n",
       "<thead>\n",
       "\t<tr><th scope=col>p_value</th><th scope=col>region</th><th scope=col>difference</th></tr>\n",
       "\t<tr><th scope=col>&lt;dbl&gt;</th><th scope=col>&lt;chr&gt;</th><th scope=col>&lt;dbl&gt;</th></tr>\n",
       "</thead>\n",
       "<tbody>\n",
       "\t<tr><td>0.891</td><td>Brazil           </td><td>0.841</td></tr>\n",
       "\t<tr><td>0.989</td><td>Europe West      </td><td>0.939</td></tr>\n",
       "\t<tr><td>0.839</td><td>Korea            </td><td>0.789</td></tr>\n",
       "\t<tr><td>0.859</td><td>North America    </td><td>0.809</td></tr>\n",
       "\t<tr><td>0.881</td><td>Europe North East</td><td>0.831</td></tr>\n",
       "\t<tr><td>1.000</td><td>Global           </td><td>0.950</td></tr>\n",
       "</tbody>\n",
       "</table>\n"
      ],
      "text/latex": [
       "A tibble: 6 × 3\n",
       "\\begin{tabular}{lll}\n",
       " p\\_value & region & difference\\\\\n",
       " <dbl> & <chr> & <dbl>\\\\\n",
       "\\hline\n",
       "\t 0.891 & Brazil            & 0.841\\\\\n",
       "\t 0.989 & Europe West       & 0.939\\\\\n",
       "\t 0.839 & Korea             & 0.789\\\\\n",
       "\t 0.859 & North America     & 0.809\\\\\n",
       "\t 0.881 & Europe North East & 0.831\\\\\n",
       "\t 1.000 & Global            & 0.950\\\\\n",
       "\\end{tabular}\n"
      ],
      "text/markdown": [
       "\n",
       "A tibble: 6 × 3\n",
       "\n",
       "| p_value &lt;dbl&gt; | region &lt;chr&gt; | difference &lt;dbl&gt; |\n",
       "|---|---|---|\n",
       "| 0.891 | Brazil            | 0.841 |\n",
       "| 0.989 | Europe West       | 0.939 |\n",
       "| 0.839 | Korea             | 0.789 |\n",
       "| 0.859 | North America     | 0.809 |\n",
       "| 0.881 | Europe North East | 0.831 |\n",
       "| 1.000 | Global            | 0.950 |\n",
       "\n"
      ],
      "text/plain": [
       "  p_value region            difference\n",
       "1 0.891   Brazil            0.841     \n",
       "2 0.989   Europe West       0.939     \n",
       "3 0.839   Korea             0.789     \n",
       "4 0.859   North America     0.809     \n",
       "5 0.881   Europe North East 0.831     \n",
       "6 1.000   Global            0.950     "
      ]
     },
     "metadata": {},
     "output_type": "display_data"
    }
   ],
   "source": [
    "rbind(br_p_value %>% mutate(difference = p_value - 0.05), euw_p_value %>% mutate(difference = p_value - 0.05),\n",
    "      kr_p_value %>% mutate(difference = p_value - 0.05), na_p_value %>% mutate(difference = p_value - 0.05),\n",
    "      eune_p_value %>% mutate(difference = p_value - 0.05), global_p_value %>% mutate(difference = p_value - 0.05))"
   ]
  },
  {
   "cell_type": "markdown",
   "metadata": {},
   "source": [
    "greater than our significance level."
   ]
  },
  {
   "cell_type": "markdown",
   "metadata": {},
   "source": [
    "Because of this, we therefore fail to reject our **null hypothesis** $p_c - p_m = 0$.\n",
    "\n",
    "Our Asymptotic results also came with very similar results, that is very high p-values much larger than our significance level. However, we are deciding to trust our computer-generated hypothesis test more due to the fact our asymptotic p-values are not proper probability values (not between 0 and 1). This is probability due to the differing sample sizing and the general large samples sizes.\n",
    "\n",
    "<br>\n",
    "\n",
    "Moving on to the **confidence intervals** generated with bootstrapping, we got these intervals for each region:"
   ]
  },
  {
   "cell_type": "code",
   "execution_count": 144,
   "metadata": {},
   "outputs": [
    {
     "data": {
      "text/html": [
       "<table>\n",
       "<caption>A tibble: 6 × 3</caption>\n",
       "<thead>\n",
       "\t<tr><th scope=col>lower_ci</th><th scope=col>upper_ci</th><th scope=col>region</th></tr>\n",
       "\t<tr><th scope=col>&lt;dbl&gt;</th><th scope=col>&lt;dbl&gt;</th><th scope=col>&lt;chr&gt;</th></tr>\n",
       "</thead>\n",
       "<tbody>\n",
       "\t<tr><td>-0.1545413</td><td> 0.04840749</td><td>Brazil           </td></tr>\n",
       "\t<tr><td>-0.2128573</td><td>-0.02073781</td><td>Europe West      </td></tr>\n",
       "\t<tr><td>-0.1252069</td><td> 0.04872134</td><td>Korea            </td></tr>\n",
       "\t<tr><td>-0.1460832</td><td> 0.04841327</td><td>North America    </td></tr>\n",
       "\t<tr><td>-0.1540824</td><td> 0.04950003</td><td>Europe North East</td></tr>\n",
       "\t<tr><td>-0.1363941</td><td>-0.05135752</td><td>Global           </td></tr>\n",
       "</tbody>\n",
       "</table>\n"
      ],
      "text/latex": [
       "A tibble: 6 × 3\n",
       "\\begin{tabular}{lll}\n",
       " lower\\_ci & upper\\_ci & region\\\\\n",
       " <dbl> & <dbl> & <chr>\\\\\n",
       "\\hline\n",
       "\t -0.1545413 &  0.04840749 & Brazil           \\\\\n",
       "\t -0.2128573 & -0.02073781 & Europe West      \\\\\n",
       "\t -0.1252069 &  0.04872134 & Korea            \\\\\n",
       "\t -0.1460832 &  0.04841327 & North America    \\\\\n",
       "\t -0.1540824 &  0.04950003 & Europe North East\\\\\n",
       "\t -0.1363941 & -0.05135752 & Global           \\\\\n",
       "\\end{tabular}\n"
      ],
      "text/markdown": [
       "\n",
       "A tibble: 6 × 3\n",
       "\n",
       "| lower_ci &lt;dbl&gt; | upper_ci &lt;dbl&gt; | region &lt;chr&gt; |\n",
       "|---|---|---|\n",
       "| -0.1545413 |  0.04840749 | Brazil            |\n",
       "| -0.2128573 | -0.02073781 | Europe West       |\n",
       "| -0.1252069 |  0.04872134 | Korea             |\n",
       "| -0.1460832 |  0.04841327 | North America     |\n",
       "| -0.1540824 |  0.04950003 | Europe North East |\n",
       "| -0.1363941 | -0.05135752 | Global            |\n",
       "\n"
      ],
      "text/plain": [
       "  lower_ci   upper_ci    region           \n",
       "1 -0.1545413  0.04840749 Brazil           \n",
       "2 -0.2128573 -0.02073781 Europe West      \n",
       "3 -0.1252069  0.04872134 Korea            \n",
       "4 -0.1460832  0.04841327 North America    \n",
       "5 -0.1540824  0.04950003 Europe North East\n",
       "6 -0.1363941 -0.05135752 Global           "
      ]
     },
     "metadata": {},
     "output_type": "display_data"
    }
   ],
   "source": [
    "rbind(br_se_ci %>% mutate(region = 'Brazil'), euw_se_ci %>% mutate(region = 'Europe West'), \n",
    "      kr_se_ci %>% mutate(region = 'Korea'), na_se_ci %>% mutate(region = 'North America'), \n",
    "      eune_se_ci %>% mutate(region = 'Europe North East'), global_se_ci %>% mutate(region = 'Global'))"
   ]
  },
  {
   "cell_type": "markdown",
   "metadata": {},
   "source": [
    "Zero is not included in two of these intervals, that being our global data set and our Europe West data set. With this in mind, it almost suggests the opposite of our hypothesis test, that is flash on D is a better indicator of individual skill (in no way am I claiming this, just noting the strictly negative values). However, all of these results do not support the argument we were trying to make in our hypothesis testing, for **ALL** data sets."
   ]
  },
  {
   "cell_type": "markdown",
   "metadata": {},
   "source": [
    "Despite our hypothesis, I assumed we wouldn't be able to reasonably deny our null hypothesis. Flash on the F key is a default value thus I believed there was no indication this predicts better performance. However, in the league of legends community, it is very common to say 'F is for Flash,' so I wanted to investigate the age-old claim."
   ]
  },
  {
   "cell_type": "markdown",
   "metadata": {},
   "source": [
    "As far as future questions or changes I would like to consider with this project, I would like to generate random samples of lower division players and compare this with challenger players. Unfortunately, it was very hard for me to figure out a method to generate samples of players in these lower divisions. The only way I could do this would be if I added my account (self burn) and my friends' list (double burn)."
   ]
  },
  {
   "cell_type": "markdown",
   "metadata": {},
   "source": [
    "##### To conclude.\n",
    "\n",
    "F might not be for Flash."
   ]
  },
  {
   "cell_type": "markdown",
   "metadata": {},
   "source": [
    "## References"
   ]
  },
  {
   "cell_type": "markdown",
   "metadata": {},
   "source": [
    "* https://lol.garena.com/news/articles/622 \n",
    "     data for general proportions of d and f across the world and in specific regions\n",
    "* https://aath0.github.io/journal/atp-tennis-analysis-2006-2015-do-lefties-have-an-advantage.html \n",
    "    Analysis of left and Right handed Tennis players using difference in proportion. I plan to use this as a guide to best estimate my population parameter\n",
    "* https://stats.libretexts.org/Bookshelves/Introductory_Statistics/Book%3A_Introductory_Statistics_(Shafer_and_Zhang)/09%3A_Two-Sample_Problems/9.04%3A_Comparison_of_Two_Population_Proportions\n",
    "    Further readings on Camparision of Two population propotions. I plan to use this and the given course text and notes to best calculate and analyze my estimates.\n",
    "    "
   ]
  }
 ],
 "metadata": {
  "kernelspec": {
   "display_name": "R",
   "language": "R",
   "name": "ir"
  },
  "language_info": {
   "codemirror_mode": "r",
   "file_extension": ".r",
   "mimetype": "text/x-r-source",
   "name": "R",
   "pygments_lexer": "r",
   "version": "4.0.0"
  }
 },
 "nbformat": 4,
 "nbformat_minor": 4
}
